{
 "cells": [
  {
   "cell_type": "code",
   "execution_count": 1,
   "metadata": {},
   "outputs": [],
   "source": [
    "!pip3 install pvrecorder -q #install pvrecorder"
   ]
  },
  {
   "cell_type": "code",
   "execution_count": 11,
   "metadata": {},
   "outputs": [],
   "source": [
    "#load PvRecorder\n",
    "\n",
    "from pvrecorder import PvRecorder\n",
    "import wave, struct "
   ]
  },
  {
   "cell_type": "code",
   "execution_count": 13,
   "metadata": {},
   "outputs": [
    {
     "name": "stdout",
     "output_type": "stream",
     "text": [
      "[0] Yeti Nano\n",
      "[1] Plantronics BT600\n",
      "[2] MacBook Pro Microphone\n",
      "[3] Camo Microphone\n",
      "[4] Iriun Webcam Audio\n",
      "[5] ZoomAudioDevice\n"
     ]
    }
   ],
   "source": [
    "#load all audio input devices \n",
    "\n",
    "for index, device in enumerate(PvRecorder.get_audio_devices()):\n",
    "    print(f\"[{index}] {device}\")\n"
   ]
  },
  {
   "cell_type": "code",
   "execution_count": 14,
   "metadata": {},
   "outputs": [],
   "source": [
    "recorder = PvRecorder(device_index=2, frame_length=512) #(32 milliseconds of 16 kHz audio)\n",
    "audio = []\n",
    "path = 'audio_recording.wav'\n",
    "\n",
    "try:\n",
    "    recorder.start()\n",
    "\n",
    "\n",
    "    while True:\n",
    "        frame = recorder.read()\n",
    "        audio.extend(frame)\n",
    "except KeyboardInterrupt:\n",
    "    recorder.stop()\n",
    "    with wave.open(path, 'w') as f:\n",
    "        f.setparams((1, 2, 16000, 512, \"NONE\", \"NONE\"))\n",
    "        f.writeframes(struct.pack(\"h\" * len(audio), *audio))\n",
    "finally:\n",
    "    recorder.delete()\n"
   ]
  },
  {
   "cell_type": "code",
   "execution_count": null,
   "metadata": {},
   "outputs": [],
   "source": []
  }
 ],
 "metadata": {
  "kernelspec": {
   "display_name": "Python 3.8.9 64-bit",
   "language": "python",
   "name": "python3"
  },
  "language_info": {
   "codemirror_mode": {
    "name": "ipython",
    "version": 3
   },
   "file_extension": ".py",
   "mimetype": "text/x-python",
   "name": "python",
   "nbconvert_exporter": "python",
   "pygments_lexer": "ipython3",
   "version": "3.8.9"
  },
  "orig_nbformat": 4,
  "vscode": {
   "interpreter": {
    "hash": "31f2aee4e71d21fbe5cf8b01ff0e069b9275f58929596ceb00d14d90e3e16cd6"
   }
  }
 },
 "nbformat": 4,
 "nbformat_minor": 2
}
